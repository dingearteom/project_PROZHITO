{
 "cells": [
  {
   "cell_type": "code",
   "execution_count": 1,
   "metadata": {},
   "outputs": [],
   "source": [
    "%load_ext autoreload\n",
    "%autoreload 2"
   ]
  },
  {
   "cell_type": "code",
   "execution_count": 143,
   "metadata": {},
   "outputs": [],
   "source": [
    "import sys\n",
    "import os\n",
    "from pullenti_wrapper.processor import DATE, Processor"
   ]
  },
  {
   "cell_type": "markdown",
   "metadata": {},
   "source": [
    "##### Change of current working directory and sys.path"
   ]
  },
  {
   "cell_type": "code",
   "execution_count": 4,
   "metadata": {},
   "outputs": [],
   "source": [
    "os.chdir('..')"
   ]
  },
  {
   "cell_type": "code",
   "execution_count": 5,
   "metadata": {},
   "outputs": [
    {
     "data": {
      "text/plain": [
       "'/home/artem/Desktop/programming/project_Yandex/project'"
      ]
     },
     "execution_count": 5,
     "metadata": {},
     "output_type": "execute_result"
    }
   ],
   "source": [
    "os.getcwd()"
   ]
  },
  {
   "cell_type": "code",
   "execution_count": 6,
   "metadata": {},
   "outputs": [],
   "source": [
    "del(sys.path[0])\n",
    "sys.path.insert(0, os.getcwd())"
   ]
  },
  {
   "cell_type": "code",
   "execution_count": 7,
   "metadata": {},
   "outputs": [
    {
     "data": {
      "text/plain": [
       "['/home/artem/Desktop/programming/project_Yandex/project',\n",
       " '/home/artem/anaconda3/lib/python38.zip',\n",
       " '/home/artem/anaconda3/lib/python3.8',\n",
       " '/home/artem/anaconda3/lib/python3.8/lib-dynload',\n",
       " '',\n",
       " '/home/artem/anaconda3/lib/python3.8/site-packages',\n",
       " '/home/artem/anaconda3/lib/python3.8/site-packages/IPython/extensions',\n",
       " '/home/artem/.ipython']"
      ]
     },
     "execution_count": 7,
     "metadata": {},
     "output_type": "execute_result"
    }
   ],
   "source": [
    "sys.path"
   ]
  },
  {
   "cell_type": "code",
   "execution_count": 8,
   "metadata": {},
   "outputs": [
    {
     "name": "stdout",
     "output_type": "stream",
     "text": [
      "/home/artem/Desktop/programming/project_Yandex/project\n",
      "['/home/artem/Desktop/programming/project_Yandex/project', '/home/artem/anaconda3/lib/python38.zip', '/home/artem/anaconda3/lib/python3.8', '/home/artem/anaconda3/lib/python3.8/lib-dynload', '', '/home/artem/anaconda3/lib/python3.8/site-packages', '/home/artem/anaconda3/lib/python3.8/site-packages/IPython/extensions', '/home/artem/.ipython']\n"
     ]
    }
   ],
   "source": [
    "print(os.getcwd())\n",
    "print(sys.path)"
   ]
  },
  {
   "cell_type": "markdown",
   "metadata": {},
   "source": [
    "### Main Code"
   ]
  },
  {
   "cell_type": "code",
   "execution_count": 121,
   "metadata": {},
   "outputs": [],
   "source": [
    "from tags_extraction.DOC import DOC\n",
    "from model.model import Model, fit_time"
   ]
  },
  {
   "cell_type": "code",
   "execution_count": 12,
   "metadata": {},
   "outputs": [],
   "source": [
    "file_name = \"data/Новая разметка/Непорожний П.С .Энергетика страны глазами министра _ Дневники/Артёмова РГГУ ФК 2 курс практика Непорожний П.С. 1959-1966.docx\"\n"
   ]
  },
  {
   "cell_type": "code",
   "execution_count": 13,
   "metadata": {},
   "outputs": [],
   "source": [
    "d = DOC(file_name=file_name)"
   ]
  },
  {
   "cell_type": "code",
   "execution_count": 83,
   "metadata": {},
   "outputs": [],
   "source": [
    "text = 'Я увидел 12 мая 2000 года.'"
   ]
  },
  {
   "cell_type": "code",
   "execution_count": 147,
   "metadata": {},
   "outputs": [
    {
     "name": "stdout",
     "output_type": "stream",
     "text": [
      "Initialisation done.\n"
     ]
    }
   ],
   "source": [
    "result = fit_time(text)"
   ]
  },
  {
   "cell_type": "code",
   "execution_count": 149,
   "metadata": {},
   "outputs": [
    {
     "name": "stdout",
     "output_type": "stream",
     "text": [
      "Initialisation done.\n"
     ]
    }
   ],
   "source": [
    "result = fit_time(d.text[:100000])"
   ]
  },
  {
   "cell_type": "code",
   "execution_count": 142,
   "metadata": {},
   "outputs": [
    {
     "name": "stdout",
     "output_type": "stream",
     "text": [
      "From  Month:1 Year:1959 To  Month:2 Year:1959\n",
      "\n",
      "From  Year:1959 To  Year:1965\n",
      "\n",
      "From  Year:1966 To  Year:1970\n",
      "\n",
      "From  Year:1959 To  Year:1965\n",
      "\n",
      "From  Year:1959 To  Year:1965\n",
      "\n",
      " Year:1961\n",
      " Year:1959\n",
      "From  Year:1966 To  Year:1970\n",
      "\n",
      "Day:11 Month:3\n",
      "From  Year:1959 To  Year:1965\n",
      "\n",
      "From  Year:1966 To  Year:1970\n",
      "\n",
      "Day:19 Month:3\n",
      " Year:1957\n",
      "Day:23 Month:3\n",
      "Day:24 Month:3\n",
      " Year:1959\n",
      "Day:27 Month:3\n",
      "Day:28 Month:3\n",
      "Day:31 Month:3\n",
      "Day:2 Month:4\n",
      " Month:4 Year:1929\n",
      " Year:1929\n",
      "From  Year:1929 To  Year:1932\n",
      "\n",
      "From  Year:1959 To  Year:1965\n",
      "\n",
      "From  Year:1966 To  Year:1970\n",
      "\n",
      "Day:4 Month:4\n",
      "From  Year:1959 To  Year:1965\n",
      "\n",
      "From  Year:1966 To  Year:1970\n",
      "\n",
      "Day:10 Month:4\n",
      "From  Year:1959 To  Year:1965\n",
      "\n",
      "From  Year:1966 To  Year:1970\n",
      "\n",
      "Day:20 Month:4\n",
      "From  Year:1959 To  Year:1965\n",
      "\n",
      "From  Year:1966 To  Year:1970\n",
      "\n",
      " Year:1958\n",
      "Day:30 Month:4\n",
      "Day:6 Month:5\n",
      " Year:1965\n",
      " Year:1959\n",
      "Day:7 Month:5\n",
      "Day:14 Month:5\n",
      " Year:1960\n",
      "Day:1 Month:8 Year:1960\n",
      "Day:18 Month:5\n",
      " Year:1952\n",
      "From Day:18 Month:5 To Day:21 Month:5\n",
      "\n",
      " Year:1964\n",
      "Day:28 Month:5\n",
      "Day:1 Month:6\n",
      " Year:1955\n",
      " Year:1955\n",
      "From Day:6 Month:6 To Day:12 Month:6\n",
      "\n",
      "From  Year:1960 To  Year:1962\n",
      "\n",
      " Year:1965\n",
      " Year:1965\n",
      " Year:1965\n",
      " Year:1965\n",
      "From  Year:1959 To  Year:1960\n",
      "\n",
      "Day:20 Month:6\n",
      "From Day:25 Month:6 To Day:27 Month:6\n",
      "\n",
      "Day:6 Month:7\n",
      "From None To  Year:1980\n",
      "\n",
      " Year:1960\n",
      "Day:13 Month:7\n",
      " Year:1965\n",
      "Day:14 Month:7\n",
      " Year:1963\n",
      "Day:18 Month:7\n",
      " Year:1958\n",
      "Day:20 Month:7\n",
      " Year:1962\n",
      "Day:22 Month:7\n",
      "From  Year:1959 To  Year:1965\n",
      "\n",
      "Day:3 Month:8\n",
      " Year:1960\n",
      "Day:7 Month:8\n",
      "Day:13 Month:8\n",
      "Day:17 Month:8\n",
      "From Day:22 Month:8 To Day:24 Month:8\n",
      "\n",
      " Year:1960\n",
      "From  Year:1959 To  Year:1965\n",
      "\n",
      "From  Year:1966 To  Year:1970\n",
      "\n",
      " Year:1960\n",
      " Year:1960\n",
      " Year:1960\n",
      "Day:27 Month:8\n",
      "From  Month:7 Year:1960 To  Month:9 Year:1960\n",
      "\n",
      " Year:1960\n",
      "Day:29 Month:8\n",
      "Day:30 Month:8\n",
      "Day:31 Month:8\n",
      "Day:3 Month:9\n",
      "From  Year:1959 To  Year:1965\n",
      "\n"
     ]
    }
   ],
   "source": [
    "for date in result:\n",
    "    print(date.span, date)"
   ]
  },
  {
   "cell_type": "code",
   "execution_count": null,
   "metadata": {},
   "outputs": [],
   "source": []
  }
 ],
 "metadata": {
  "kernelspec": {
   "display_name": "Python 3",
   "language": "python",
   "name": "python3"
  },
  "language_info": {
   "codemirror_mode": {
    "name": "ipython",
    "version": 3
   },
   "file_extension": ".py",
   "mimetype": "text/x-python",
   "name": "python",
   "nbconvert_exporter": "python",
   "pygments_lexer": "ipython3",
   "version": "3.8.3"
  }
 },
 "nbformat": 4,
 "nbformat_minor": 4
}
