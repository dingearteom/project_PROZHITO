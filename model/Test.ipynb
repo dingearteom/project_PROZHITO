{
 "cells": [
  {
   "cell_type": "code",
   "execution_count": 1,
   "metadata": {},
   "outputs": [],
   "source": [
    "%load_ext autoreload\n",
    "%autoreload 2"
   ]
  },
  {
   "cell_type": "code",
   "execution_count": 143,
   "metadata": {},
   "outputs": [],
   "source": [
    "import sys\n",
    "import os\n",
    "from pullenti_wrapper.processor import DATE, Processor"
   ]
  },
  {
   "cell_type": "markdown",
   "metadata": {},
   "source": [
    "##### Change of current working directory and sys.path"
   ]
  },
  {
   "cell_type": "code",
   "execution_count": 4,
   "metadata": {},
   "outputs": [],
   "source": [
    "os.chdir('..')"
   ]
  },
  {
   "cell_type": "code",
   "execution_count": 5,
   "metadata": {},
   "outputs": [
    {
     "data": {
      "text/plain": [
       "'/home/artem/Desktop/programming/project_Yandex/project'"
      ]
     },
     "execution_count": 5,
     "metadata": {},
     "output_type": "execute_result"
    }
   ],
   "source": [
    "os.getcwd()"
   ]
  },
  {
   "cell_type": "code",
   "execution_count": 6,
   "metadata": {},
   "outputs": [],
   "source": [
    "del(sys.path[0])\n",
    "sys.path.insert(0, os.getcwd())"
   ]
  },
  {
   "cell_type": "code",
   "execution_count": 7,
   "metadata": {},
   "outputs": [
    {
     "data": {
      "text/plain": [
       "['/home/artem/Desktop/programming/project_Yandex/project',\n",
       " '/home/artem/anaconda3/lib/python38.zip',\n",
       " '/home/artem/anaconda3/lib/python3.8',\n",
       " '/home/artem/anaconda3/lib/python3.8/lib-dynload',\n",
       " '',\n",
       " '/home/artem/anaconda3/lib/python3.8/site-packages',\n",
       " '/home/artem/anaconda3/lib/python3.8/site-packages/IPython/extensions',\n",
       " '/home/artem/.ipython']"
      ]
     },
     "execution_count": 7,
     "metadata": {},
     "output_type": "execute_result"
    }
   ],
   "source": [
    "sys.path"
   ]
  },
  {
   "cell_type": "code",
   "execution_count": 8,
   "metadata": {},
   "outputs": [
    {
     "name": "stdout",
     "output_type": "stream",
     "text": [
      "/home/artem/Desktop/programming/project_Yandex/project\n",
      "['/home/artem/Desktop/programming/project_Yandex/project', '/home/artem/anaconda3/lib/python38.zip', '/home/artem/anaconda3/lib/python3.8', '/home/artem/anaconda3/lib/python3.8/lib-dynload', '', '/home/artem/anaconda3/lib/python3.8/site-packages', '/home/artem/anaconda3/lib/python3.8/site-packages/IPython/extensions', '/home/artem/.ipython']\n"
     ]
    }
   ],
   "source": [
    "print(os.getcwd())\n",
    "print(sys.path)"
   ]
  },
  {
   "cell_type": "markdown",
   "metadata": {},
   "source": [
    "### Main Code"
   ]
  },
  {
   "cell_type": "code",
   "execution_count": 121,
   "metadata": {},
   "outputs": [],
   "source": [
    "from tags_extraction.DOC import DOC\n",
    "from model.model import Model, fit_time"
   ]
  },
  {
   "cell_type": "code",
   "execution_count": 12,
   "metadata": {},
   "outputs": [],
   "source": [
    "file_name = \"data/Новая разметка/Непорожний П.С .Энергетика страны глазами министра _ Дневники/Артёмова РГГУ ФК 2 курс практика Непорожний П.С. 1959-1966.docx\"\n"
   ]
  },
  {
   "cell_type": "code",
   "execution_count": 13,
   "metadata": {},
   "outputs": [],
   "source": [
    "d = DOC(file_name=file_name)"
   ]
  },
  {
   "cell_type": "code",
   "execution_count": 83,
   "metadata": {},
   "outputs": [],
   "source": [
    "text = 'Я увидел 12 мая 2000 года.'"
   ]
  },
  {
   "cell_type": "code",
   "execution_count": 147,
   "metadata": {},
   "outputs": [
    {
     "name": "stdout",
     "output_type": "stream",
     "text": [
      "Initialisation done.\n"
     ]
    }
   ],
   "source": [
    "result = fit_time(text)"
   ]
  },
  {
   "cell_type": "code",
   "execution_count": 149,
   "metadata": {},
   "outputs": [
    {
     "name": "stdout",
     "output_type": "stream",
     "text": [
      "Initialisation done.\n"
     ]
    }
   ],
   "source": [
    "result = fit_time(d.text[:100000])"
   ]
  },
  {
   "cell_type": "code",
   "execution_count": 153,
   "metadata": {},
   "outputs": [
    {
     "name": "stdout",
     "output_type": "stream",
     "text": [
      "января—февраля 1959 г.  ->  From  Month:1 Year:1959 To  Month:2 Year:1959\n",
      "\n",
      "1959 – 1965 гг.  ->  From  Year:1959 To  Year:1965\n",
      "\n",
      "1966 – 1970 гг.  ->  From  Year:1966 To  Year:1970\n",
      "\n",
      "1959 – 1965 гг.  ->  From  Year:1959 To  Year:1965\n",
      "\n",
      "1959—1965 гг.  ->  From  Year:1959 To  Year:1965\n",
      "\n",
      "1961 г.  ->   Year:1961\n",
      "1959 г.  ->   Year:1959\n",
      "1966 – 1970 гг.  ->  From  Year:1966 To  Year:1970\n",
      "\n",
      "11 марта  ->  Day:11 Month:3\n",
      "1959 – 1965 гг.  ->  From  Year:1959 To  Year:1965\n",
      "\n",
      "1966 – 1970 гг.  ->  From  Year:1966 To  Year:1970\n",
      "\n",
      "19 марта  ->  Day:19 Month:3\n",
      "1957 г.  ->   Year:1957\n",
      "23 марта  ->  Day:23 Month:3\n",
      "24 марта  ->  Day:24 Month:3\n",
      "1959 г.  ->   Year:1959\n",
      "27 марта  ->  Day:27 Month:3\n",
      "28 марта  ->  Day:28 Month:3\n",
      "31 марта  ->  Day:31 Month:3\n",
      "2 апреля  ->  Day:2 Month:4\n",
      "апреле 1929 г.  ->   Month:4 Year:1929\n",
      "1929 г.  ->   Year:1929\n",
      "1929 – 1932 гг.  ->  From  Year:1929 To  Year:1932\n",
      "\n",
      "1959 – 1965 гг.  ->  From  Year:1959 To  Year:1965\n",
      "\n",
      "1966 – 1970 гг.  ->  From  Year:1966 To  Year:1970\n",
      "\n",
      "4 апреля  ->  Day:4 Month:4\n",
      "1959 – 1965 гг.  ->  From  Year:1959 To  Year:1965\n",
      "\n",
      "1966 – 1970 гг.  ->  From  Year:1966 To  Year:1970\n",
      "\n",
      "10 апреля  ->  Day:10 Month:4\n",
      "1959 – 1965 гг.  ->  From  Year:1959 To  Year:1965\n",
      "\n",
      "1966 – 1970 гг.  ->  From  Year:1966 To  Year:1970\n",
      "\n",
      "20 апреля  ->  Day:20 Month:4\n",
      "1959 – 1965 гг.  ->  From  Year:1959 To  Year:1965\n",
      "\n",
      "1966 – 1970 гг.  ->  From  Year:1966 To  Year:1970\n",
      "\n",
      "1958 г.  ->   Year:1958\n",
      "30 апреля  ->  Day:30 Month:4\n",
      "6 мая  ->  Day:6 Month:5\n",
      "1965 г.  ->   Year:1965\n",
      "1959 г.  ->   Year:1959\n",
      "7 мая  ->  Day:7 Month:5\n",
      "14 мая  ->  Day:14 Month:5\n",
      "1960 г.  ->   Year:1960\n",
      "1 августа 1960 г.  ->  Day:1 Month:8 Year:1960\n",
      "18 мая  ->  Day:18 Month:5\n",
      "1952 г.  ->   Year:1952\n",
      "18—21 мая  ->  From Day:18 Month:5 To Day:21 Month:5\n",
      "\n",
      "1964 г.  ->   Year:1964\n",
      "28 мая  ->  Day:28 Month:5\n",
      "1 июня  ->  Day:1 Month:6\n",
      "1955 г.  ->   Year:1955\n",
      "1955 г.  ->   Year:1955\n",
      "6—12 июня  ->  From Day:6 Month:6 To Day:12 Month:6\n",
      "\n",
      "1960 – 1962 гг.  ->  From  Year:1960 To  Year:1962\n",
      "\n",
      "1965 г.  ->   Year:1965\n",
      "1965 г.  ->   Year:1965\n",
      "1965 г.  ->   Year:1965\n",
      "1965 г.  ->   Year:1965\n",
      "1959 – 1960 гг.  ->  From  Year:1959 To  Year:1960\n",
      "\n",
      "20 июня  ->  Day:20 Month:6\n",
      "25—27 июня  ->  From Day:25 Month:6 To Day:27 Month:6\n",
      "\n",
      "6 июля  ->  Day:6 Month:7\n",
      "до 1980 г.  ->  From None To  Year:1980\n",
      "\n",
      "1960 г.  ->   Year:1960\n",
      "13 июля  ->  Day:13 Month:7\n",
      "1965 г.  ->   Year:1965\n",
      "14 июля  ->  Day:14 Month:7\n",
      "1963 г.  ->   Year:1963\n",
      "18 июля  ->  Day:18 Month:7\n",
      "1958 г.  ->   Year:1958\n",
      "20 июля  ->  Day:20 Month:7\n",
      "1962 г.  ->   Year:1962\n",
      "22 июля  ->  Day:22 Month:7\n",
      "1959—1965 гг.  ->  From  Year:1959 To  Year:1965\n",
      "\n",
      "3 августа  ->  Day:3 Month:8\n",
      "1960 г.  ->   Year:1960\n",
      "7 августа  ->  Day:7 Month:8\n",
      "13 августа  ->  Day:13 Month:8\n",
      "17 августа  ->  Day:17 Month:8\n",
      "22—24 августа  ->  From Day:22 Month:8 To Day:24 Month:8\n",
      "\n",
      "1960 г.  ->   Year:1960\n",
      "1959 – 1965 гг.  ->  From  Year:1959 To  Year:1965\n",
      "\n",
      "1966 – 1970 гг.  ->  From  Year:1966 To  Year:1970\n",
      "\n",
      "1960 г.  ->   Year:1960\n",
      "1960 г.  ->   Year:1960\n",
      "1960 г.  ->   Year:1960\n",
      "27 августа  ->  Day:27 Month:8\n",
      "III квартале 1960 г.  ->  From  Month:7 Year:1960 To  Month:9 Year:1960\n",
      "\n",
      "1960 г.  ->   Year:1960\n",
      "29 августа  ->  Day:29 Month:8\n",
      "30 августа  ->  Day:30 Month:8\n",
      "31 августа  ->  Day:31 Month:8\n",
      "3 сентября  ->  Day:3 Month:9\n",
      "1959 – 1965 гг.  ->  From  Year:1959 To  Year:1965\n",
      "\n"
     ]
    }
   ],
   "source": [
    "for date in result:\n",
    "    print(d.text[date.span.start: date.span.stop], \" -> \", date)"
   ]
  },
  {
   "cell_type": "code",
   "execution_count": null,
   "metadata": {},
   "outputs": [],
   "source": []
  }
 ],
 "metadata": {
  "kernelspec": {
   "display_name": "Python 3",
   "language": "python",
   "name": "python3"
  },
  "language_info": {
   "codemirror_mode": {
    "name": "ipython",
    "version": 3
   },
   "file_extension": ".py",
   "mimetype": "text/x-python",
   "name": "python",
   "nbconvert_exporter": "python",
   "pygments_lexer": "ipython3",
   "version": "3.8.3"
  }
 },
 "nbformat": 4,
 "nbformat_minor": 4
}
