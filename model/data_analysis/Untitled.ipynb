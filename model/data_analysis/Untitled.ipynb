{
 "cells": [
  {
   "cell_type": "code",
   "execution_count": 2,
   "metadata": {},
   "outputs": [],
   "source": [
    "##\n",
    "os.chdir('../..')\n",
    "\n",
    "del(sys.path[0])\n",
    "sys.path.insert(0, os.getcwd())\n",
    "##"
   ]
  },
  {
   "cell_type": "code",
   "execution_count": 3,
   "metadata": {},
   "outputs": [],
   "source": [
    "import os\n",
    "import sys\n",
    "from tags_extraction.DOC import DOC, fit_time"
   ]
  },
  {
   "cell_type": "code",
   "execution_count": null,
   "metadata": {},
   "outputs": [],
   "source": [
    "with open('model/data/main_file.txt') as file:\n",
    "    \n",
    "    main_file = json.load(file)\n",
    "    \n",
    "    for key, value in main_file.items():\n",
    "        for file_name in value:\n",
    "            d = DOC(file_name=file_name)\n",
    "            \n",
    "            dates = fit_time(d.text)\n",
    "            \n",
    "            j = 0\n",
    "            \n",
    "            for i in range(d.paragraphs):\n",
    "                while (j < len(dates) and dates[j].span[0] < d.paragraphs.):"
   ]
  }
 ],
 "metadata": {
  "kernelspec": {
   "display_name": "Python 3",
   "language": "python",
   "name": "python3"
  },
  "language_info": {
   "codemirror_mode": {
    "name": "ipython",
    "version": 3
   },
   "file_extension": ".py",
   "mimetype": "text/x-python",
   "name": "python",
   "nbconvert_exporter": "python",
   "pygments_lexer": "ipython3",
   "version": "3.8.3"
  }
 },
 "nbformat": 4,
 "nbformat_minor": 4
}
